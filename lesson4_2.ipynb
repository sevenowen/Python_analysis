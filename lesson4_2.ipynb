{
 "cells": [
  {
   "cell_type": "code",
   "execution_count": 1,
   "metadata": {},
   "outputs": [],
   "source": [
    "file = open(file='students.csv',encoding='utf-8')\n",
    "file.close()"
   ]
  },
  {
   "cell_type": "code",
   "execution_count": 2,
   "metadata": {},
   "outputs": [
    {
     "name": "stdout",
     "output_type": "stream",
     "text": [
      "name,chinese,english,math,history,health\n",
      "student1,55,79,74,76,62\n",
      "student2,84,93,61,57,81\n",
      "student3,96,63,77,65,94\n",
      "student4,65,93,61,68,99\n",
      "student5,90,61,67,60,57\n",
      "student6,62,74,72,93,55\n",
      "student7,72,54,84,85,65\n",
      "student8,94,75,60,62,80\n",
      "student9,91,95,52,92,56\n",
      "student10,69,94,64,76,100\n",
      "student11,59,51,65,78,68\n",
      "student12,100,78,53,98,57\n",
      "student13,88,54,73,79,89\n",
      "student14,93,56,95,54,89\n",
      "student15,93,66,53,67,87\n",
      "student16,64,68,88,92,95\n",
      "student17,80,84,61,73,79\n",
      "student18,70,95,72,70,92\n",
      "student19,87,50,92,50,95\n",
      "student20,73,65,52,61,79\n",
      "student21,94,66,71,61,99\n",
      "student22,88,96,84,62,60\n",
      "student23,59,70,82,76,59\n",
      "student24,68,90,62,60,90\n",
      "student25,72,57,53,68,70\n",
      "student26,61,82,76,60,89\n",
      "student27,72,91,71,73,66\n",
      "student28,82,62,100,70,88\n",
      "student29,68,91,70,72,99\n",
      "student30,73,85,95,50,80\n",
      "student31,59,99,80,57,85\n",
      "student32,53,99,81,86,100\n",
      "student33,60,82,65,77,99\n",
      "student34,68,84,67,52,59\n",
      "student35,63,86,82,79,58\n",
      "student36,55,78,64,87,66\n",
      "student37,100,71,99,59,88\n",
      "student38,71,89,74,60,73\n",
      "student39,62,64,57,88,77\n",
      "student40,63,77,94,94,72\n",
      "student41,73,96,64,50,77\n",
      "student42,89,84,98,82,74\n",
      "student43,78,85,80,88,85\n",
      "student44,50,82,52,98,70\n",
      "student45,69,96,75,68,71\n",
      "student46,80,95,87,96,86\n",
      "student47,85,99,67,73,91\n",
      "student48,84,55,88,77,100\n",
      "student49,61,61,52,54,51\n",
      "student50,50,71,53,61,82\n",
      "\n"
     ]
    }
   ],
   "source": [
    "with open(file='students.csv',encoding='utf-8') as file:\n",
    "    content:str = file.read()\n",
    "\n",
    "print(content)"
   ]
  },
  {
   "cell_type": "code",
   "execution_count": 3,
   "metadata": {},
   "outputs": [
    {
     "name": "stdout",
     "output_type": "stream",
     "text": [
      "['name,chinese,english,math,history,health\\n', 'student1,55,79,74,76,62\\n', 'student2,84,93,61,57,81\\n', 'student3,96,63,77,65,94\\n', 'student4,65,93,61,68,99\\n', 'student5,90,61,67,60,57\\n', 'student6,62,74,72,93,55\\n', 'student7,72,54,84,85,65\\n', 'student8,94,75,60,62,80\\n', 'student9,91,95,52,92,56\\n', 'student10,69,94,64,76,100\\n', 'student11,59,51,65,78,68\\n', 'student12,100,78,53,98,57\\n', 'student13,88,54,73,79,89\\n', 'student14,93,56,95,54,89\\n', 'student15,93,66,53,67,87\\n', 'student16,64,68,88,92,95\\n', 'student17,80,84,61,73,79\\n', 'student18,70,95,72,70,92\\n', 'student19,87,50,92,50,95\\n', 'student20,73,65,52,61,79\\n', 'student21,94,66,71,61,99\\n', 'student22,88,96,84,62,60\\n', 'student23,59,70,82,76,59\\n', 'student24,68,90,62,60,90\\n', 'student25,72,57,53,68,70\\n', 'student26,61,82,76,60,89\\n', 'student27,72,91,71,73,66\\n', 'student28,82,62,100,70,88\\n', 'student29,68,91,70,72,99\\n', 'student30,73,85,95,50,80\\n', 'student31,59,99,80,57,85\\n', 'student32,53,99,81,86,100\\n', 'student33,60,82,65,77,99\\n', 'student34,68,84,67,52,59\\n', 'student35,63,86,82,79,58\\n', 'student36,55,78,64,87,66\\n', 'student37,100,71,99,59,88\\n', 'student38,71,89,74,60,73\\n', 'student39,62,64,57,88,77\\n', 'student40,63,77,94,94,72\\n', 'student41,73,96,64,50,77\\n', 'student42,89,84,98,82,74\\n', 'student43,78,85,80,88,85\\n', 'student44,50,82,52,98,70\\n', 'student45,69,96,75,68,71\\n', 'student46,80,95,87,96,86\\n', 'student47,85,99,67,73,91\\n', 'student48,84,55,88,77,100\\n', 'student49,61,61,52,54,51\\n', 'student50,50,71,53,61,82\\n']\n"
     ]
    }
   ],
   "source": [
    "with open(file='students.csv',encoding='utf-8') as file:\n",
    "    lines:list[str] = file.readlines()\n",
    "    print(lines)"
   ]
  },
  {
   "cell_type": "code",
   "execution_count": 5,
   "metadata": {},
   "outputs": [
    {
     "name": "stdout",
     "output_type": "stream",
     "text": [
      "['student20', '73', '65', '52', '61', '79']\n"
     ]
    }
   ],
   "source": [
    "import csv\n",
    "with open(file='students.csv',encoding='utf-8') as file:\n",
    "    reader = csv.reader(file)\n",
    "    next(reader)\n",
    "    students:list = list(reader)\n",
    "\n",
    "for student in students:\n",
    "    if student[0] == 'student20':\n",
    "        print(student)\n"
   ]
  },
  {
   "cell_type": "code",
   "execution_count": 6,
   "metadata": {},
   "outputs": [
    {
     "name": "stdout",
     "output_type": "stream",
     "text": [
      "{'name': 'student20', 'chinese': '73', 'english': '65', 'math': '52', 'history': '61', 'health': '79'}\n"
     ]
    }
   ],
   "source": [
    "import csv\n",
    "with open(file='students.csv',encoding='utf-8') as file:\n",
    "    reader = csv.DictReader(file)\n",
    "    students = list(reader)\n",
    "\n",
    "for student in students:\n",
    "    if student['name'] == 'student20':\n",
    "        print(student)"
   ]
  }
 ],
 "metadata": {
  "kernelspec": {
   "display_name": "base",
   "language": "python",
   "name": "python3"
  },
  "language_info": {
   "codemirror_mode": {
    "name": "ipython",
    "version": 3
   },
   "file_extension": ".py",
   "mimetype": "text/x-python",
   "name": "python",
   "nbconvert_exporter": "python",
   "pygments_lexer": "ipython3",
   "version": "3.12.9"
  }
 },
 "nbformat": 4,
 "nbformat_minor": 2
}
